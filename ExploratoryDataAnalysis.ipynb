{
 "cells": [
  {
   "cell_type": "markdown",
   "id": "7ef19787-5633-4458-9fc5-30d3e7e61734",
   "metadata": {},
   "source": [
    "<h1> Exploratory Data Analysis </h1>"
   ]
  },
  {
   "cell_type": "code",
   "execution_count": 1,
   "id": "aca84b7f-52ce-4abc-bca8-bdcaf2d58918",
   "metadata": {},
   "outputs": [],
   "source": [
    "import pandas as pd\n",
    "import matplotlib.pyplot as plt\n",
    "\n",
    "# Load your data\n",
    "data = pd.read_csv('2023_Q3.2_AllData_Before_20231215.csv', header=0, index_col=0, low_memory=False).reset_index(drop=True)"
   ]
  },
  {
   "cell_type": "code",
   "execution_count": 2,
   "id": "9d409918-84db-4f69-bfbb-e37e41f426e5",
   "metadata": {},
   "outputs": [
    {
     "data": {
      "text/plain": [
       "(2668219, 83)"
      ]
     },
     "execution_count": 2,
     "metadata": {},
     "output_type": "execute_result"
    }
   ],
   "source": [
    "data.shape"
   ]
  },
  {
   "cell_type": "code",
   "execution_count": 3,
   "id": "fde04efd-4fb5-4f26-8821-5f5f1e6c0af2",
   "metadata": {},
   "outputs": [
    {
     "data": {
      "text/html": [
       "<div>\n",
       "<style scoped>\n",
       "    .dataframe tbody tr th:only-of-type {\n",
       "        vertical-align: middle;\n",
       "    }\n",
       "\n",
       "    .dataframe tbody tr th {\n",
       "        vertical-align: top;\n",
       "    }\n",
       "\n",
       "    .dataframe thead th {\n",
       "        text-align: right;\n",
       "    }\n",
       "</style>\n",
       "<table border=\"1\" class=\"dataframe\">\n",
       "  <thead>\n",
       "    <tr style=\"text-align: right;\">\n",
       "      <th></th>\n",
       "      <th>ID</th>\n",
       "      <th>Goal</th>\n",
       "      <th>Target</th>\n",
       "      <th>Indicator</th>\n",
       "      <th>ReleaseStatus</th>\n",
       "      <th>ReleaseName</th>\n",
       "      <th>SeriesID</th>\n",
       "      <th>SeriesCode</th>\n",
       "      <th>isDSDSeries</th>\n",
       "      <th>SeriesDescription</th>\n",
       "      <th>...</th>\n",
       "      <th>Level_of_government</th>\n",
       "      <th>Type of renewable technology</th>\n",
       "      <th>Population Group</th>\n",
       "      <th>Custom Breakdown</th>\n",
       "      <th>Service Attribute</th>\n",
       "      <th>Land cover</th>\n",
       "      <th>Bioclimatic belt</th>\n",
       "      <th>Illicit Financial Flows</th>\n",
       "      <th>Nutrient Loading</th>\n",
       "      <th>Type of OFDI scheme</th>\n",
       "    </tr>\n",
       "  </thead>\n",
       "  <tbody>\n",
       "    <tr>\n",
       "      <th>0</th>\n",
       "      <td>9687</td>\n",
       "      <td>1</td>\n",
       "      <td>1.1</td>\n",
       "      <td>1.1.1</td>\n",
       "      <td>Published</td>\n",
       "      <td>2023.Q3.G.02</td>\n",
       "      <td>1844</td>\n",
       "      <td>SI_POV_DAY1</td>\n",
       "      <td>1</td>\n",
       "      <td>Proportion of population below international p...</td>\n",
       "      <td>...</td>\n",
       "      <td>NaN</td>\n",
       "      <td>NaN</td>\n",
       "      <td>NaN</td>\n",
       "      <td>NaN</td>\n",
       "      <td>NaN</td>\n",
       "      <td>NaN</td>\n",
       "      <td>NaN</td>\n",
       "      <td>NaN</td>\n",
       "      <td>NaN</td>\n",
       "      <td>NaN</td>\n",
       "    </tr>\n",
       "    <tr>\n",
       "      <th>1</th>\n",
       "      <td>9688</td>\n",
       "      <td>1</td>\n",
       "      <td>1.1</td>\n",
       "      <td>1.1.1</td>\n",
       "      <td>Published</td>\n",
       "      <td>2023.Q3.G.02</td>\n",
       "      <td>1844</td>\n",
       "      <td>SI_POV_DAY1</td>\n",
       "      <td>1</td>\n",
       "      <td>Proportion of population below international p...</td>\n",
       "      <td>...</td>\n",
       "      <td>NaN</td>\n",
       "      <td>NaN</td>\n",
       "      <td>NaN</td>\n",
       "      <td>NaN</td>\n",
       "      <td>NaN</td>\n",
       "      <td>NaN</td>\n",
       "      <td>NaN</td>\n",
       "      <td>NaN</td>\n",
       "      <td>NaN</td>\n",
       "      <td>NaN</td>\n",
       "    </tr>\n",
       "    <tr>\n",
       "      <th>2</th>\n",
       "      <td>9689</td>\n",
       "      <td>1</td>\n",
       "      <td>1.1</td>\n",
       "      <td>1.1.1</td>\n",
       "      <td>Published</td>\n",
       "      <td>2023.Q3.G.02</td>\n",
       "      <td>1844</td>\n",
       "      <td>SI_POV_DAY1</td>\n",
       "      <td>1</td>\n",
       "      <td>Proportion of population below international p...</td>\n",
       "      <td>...</td>\n",
       "      <td>NaN</td>\n",
       "      <td>NaN</td>\n",
       "      <td>NaN</td>\n",
       "      <td>NaN</td>\n",
       "      <td>NaN</td>\n",
       "      <td>NaN</td>\n",
       "      <td>NaN</td>\n",
       "      <td>NaN</td>\n",
       "      <td>NaN</td>\n",
       "      <td>NaN</td>\n",
       "    </tr>\n",
       "    <tr>\n",
       "      <th>3</th>\n",
       "      <td>9690</td>\n",
       "      <td>1</td>\n",
       "      <td>1.1</td>\n",
       "      <td>1.1.1</td>\n",
       "      <td>Published</td>\n",
       "      <td>2023.Q3.G.02</td>\n",
       "      <td>1844</td>\n",
       "      <td>SI_POV_DAY1</td>\n",
       "      <td>1</td>\n",
       "      <td>Proportion of population below international p...</td>\n",
       "      <td>...</td>\n",
       "      <td>NaN</td>\n",
       "      <td>NaN</td>\n",
       "      <td>NaN</td>\n",
       "      <td>NaN</td>\n",
       "      <td>NaN</td>\n",
       "      <td>NaN</td>\n",
       "      <td>NaN</td>\n",
       "      <td>NaN</td>\n",
       "      <td>NaN</td>\n",
       "      <td>NaN</td>\n",
       "    </tr>\n",
       "    <tr>\n",
       "      <th>4</th>\n",
       "      <td>9691</td>\n",
       "      <td>1</td>\n",
       "      <td>1.1</td>\n",
       "      <td>1.1.1</td>\n",
       "      <td>Published</td>\n",
       "      <td>2023.Q3.G.02</td>\n",
       "      <td>1844</td>\n",
       "      <td>SI_POV_DAY1</td>\n",
       "      <td>1</td>\n",
       "      <td>Proportion of population below international p...</td>\n",
       "      <td>...</td>\n",
       "      <td>NaN</td>\n",
       "      <td>NaN</td>\n",
       "      <td>NaN</td>\n",
       "      <td>NaN</td>\n",
       "      <td>NaN</td>\n",
       "      <td>NaN</td>\n",
       "      <td>NaN</td>\n",
       "      <td>NaN</td>\n",
       "      <td>NaN</td>\n",
       "      <td>NaN</td>\n",
       "    </tr>\n",
       "  </tbody>\n",
       "</table>\n",
       "<p>5 rows × 83 columns</p>\n",
       "</div>"
      ],
      "text/plain": [
       "     ID  Goal Target Indicator ReleaseStatus   ReleaseName  SeriesID  \\\n",
       "0  9687     1    1.1     1.1.1     Published  2023.Q3.G.02      1844   \n",
       "1  9688     1    1.1     1.1.1     Published  2023.Q3.G.02      1844   \n",
       "2  9689     1    1.1     1.1.1     Published  2023.Q3.G.02      1844   \n",
       "3  9690     1    1.1     1.1.1     Published  2023.Q3.G.02      1844   \n",
       "4  9691     1    1.1     1.1.1     Published  2023.Q3.G.02      1844   \n",
       "\n",
       "    SeriesCode  isDSDSeries  \\\n",
       "0  SI_POV_DAY1            1   \n",
       "1  SI_POV_DAY1            1   \n",
       "2  SI_POV_DAY1            1   \n",
       "3  SI_POV_DAY1            1   \n",
       "4  SI_POV_DAY1            1   \n",
       "\n",
       "                                   SeriesDescription  ...  \\\n",
       "0  Proportion of population below international p...  ...   \n",
       "1  Proportion of population below international p...  ...   \n",
       "2  Proportion of population below international p...  ...   \n",
       "3  Proportion of population below international p...  ...   \n",
       "4  Proportion of population below international p...  ...   \n",
       "\n",
       "   Level_of_government  Type of renewable technology Population Group  \\\n",
       "0                  NaN                           NaN              NaN   \n",
       "1                  NaN                           NaN              NaN   \n",
       "2                  NaN                           NaN              NaN   \n",
       "3                  NaN                           NaN              NaN   \n",
       "4                  NaN                           NaN              NaN   \n",
       "\n",
       "   Custom Breakdown Service Attribute Land cover Bioclimatic belt  \\\n",
       "0               NaN               NaN        NaN              NaN   \n",
       "1               NaN               NaN        NaN              NaN   \n",
       "2               NaN               NaN        NaN              NaN   \n",
       "3               NaN               NaN        NaN              NaN   \n",
       "4               NaN               NaN        NaN              NaN   \n",
       "\n",
       "   Illicit Financial Flows Nutrient Loading Type of OFDI scheme  \n",
       "0                      NaN              NaN                 NaN  \n",
       "1                      NaN              NaN                 NaN  \n",
       "2                      NaN              NaN                 NaN  \n",
       "3                      NaN              NaN                 NaN  \n",
       "4                      NaN              NaN                 NaN  \n",
       "\n",
       "[5 rows x 83 columns]"
      ]
     },
     "execution_count": 3,
     "metadata": {},
     "output_type": "execute_result"
    }
   ],
   "source": [
    "data.head()"
   ]
  },
  {
   "cell_type": "code",
   "execution_count": 4,
   "id": "5b3ad8e9-dd0c-4e50-9897-4eab1ea1f408",
   "metadata": {},
   "outputs": [
    {
     "data": {
      "text/html": [
       "<div>\n",
       "<style scoped>\n",
       "    .dataframe tbody tr th:only-of-type {\n",
       "        vertical-align: middle;\n",
       "    }\n",
       "\n",
       "    .dataframe tbody tr th {\n",
       "        vertical-align: top;\n",
       "    }\n",
       "\n",
       "    .dataframe thead th {\n",
       "        text-align: right;\n",
       "    }\n",
       "</style>\n",
       "<table border=\"1\" class=\"dataframe\">\n",
       "  <thead>\n",
       "    <tr style=\"text-align: right;\">\n",
       "      <th></th>\n",
       "      <th>ID</th>\n",
       "      <th>Goal</th>\n",
       "      <th>SeriesID</th>\n",
       "      <th>isDSDSeries</th>\n",
       "      <th>SeriesObservationCount</th>\n",
       "      <th>GeoAreaCode</th>\n",
       "      <th>TimePeriod</th>\n",
       "      <th>TimeCoverage</th>\n",
       "      <th>BasePeriod</th>\n",
       "      <th>GeoInfoUrl</th>\n",
       "      <th>ObservationID</th>\n",
       "      <th>Freq</th>\n",
       "      <th>UnitMultiplier</th>\n",
       "      <th>Name of international agreement</th>\n",
       "      <th>Type of facilities</th>\n",
       "      <th>Tariff regime (status)</th>\n",
       "      <th>Type of mobile technology</th>\n",
       "      <th>Hazard type</th>\n",
       "      <th>Mountain Elevation</th>\n",
       "      <th>Custom Breakdown</th>\n",
       "    </tr>\n",
       "  </thead>\n",
       "  <tbody>\n",
       "    <tr>\n",
       "      <th>count</th>\n",
       "      <td>2.668219e+06</td>\n",
       "      <td>2.668219e+06</td>\n",
       "      <td>2.668219e+06</td>\n",
       "      <td>2668219.0</td>\n",
       "      <td>2.668219e+06</td>\n",
       "      <td>2.668219e+06</td>\n",
       "      <td>2.668219e+06</td>\n",
       "      <td>0.0</td>\n",
       "      <td>294547.000000</td>\n",
       "      <td>0.0</td>\n",
       "      <td>2.668219e+06</td>\n",
       "      <td>0.0</td>\n",
       "      <td>0.0</td>\n",
       "      <td>0.0</td>\n",
       "      <td>0.0</td>\n",
       "      <td>0.0</td>\n",
       "      <td>0.0</td>\n",
       "      <td>0.0</td>\n",
       "      <td>0.0</td>\n",
       "      <td>0.0</td>\n",
       "    </tr>\n",
       "    <tr>\n",
       "      <th>mean</th>\n",
       "      <td>1.334110e+06</td>\n",
       "      <td>8.906242e+00</td>\n",
       "      <td>2.492912e+03</td>\n",
       "      <td>1.0</td>\n",
       "      <td>3.197705e+04</td>\n",
       "      <td>6.137184e+02</td>\n",
       "      <td>2.010984e+03</td>\n",
       "      <td>NaN</td>\n",
       "      <td>2016.639389</td>\n",
       "      <td>NaN</td>\n",
       "      <td>1.462566e+07</td>\n",
       "      <td>NaN</td>\n",
       "      <td>NaN</td>\n",
       "      <td>NaN</td>\n",
       "      <td>NaN</td>\n",
       "      <td>NaN</td>\n",
       "      <td>NaN</td>\n",
       "      <td>NaN</td>\n",
       "      <td>NaN</td>\n",
       "      <td>NaN</td>\n",
       "    </tr>\n",
       "    <tr>\n",
       "      <th>std</th>\n",
       "      <td>7.702486e+05</td>\n",
       "      <td>5.115546e+00</td>\n",
       "      <td>7.755669e+02</td>\n",
       "      <td>0.0</td>\n",
       "      <td>3.842497e+04</td>\n",
       "      <td>4.606459e+03</td>\n",
       "      <td>8.089045e+00</td>\n",
       "      <td>NaN</td>\n",
       "      <td>2.400968</td>\n",
       "      <td>NaN</td>\n",
       "      <td>1.517945e+06</td>\n",
       "      <td>NaN</td>\n",
       "      <td>NaN</td>\n",
       "      <td>NaN</td>\n",
       "      <td>NaN</td>\n",
       "      <td>NaN</td>\n",
       "      <td>NaN</td>\n",
       "      <td>NaN</td>\n",
       "      <td>NaN</td>\n",
       "      <td>NaN</td>\n",
       "    </tr>\n",
       "    <tr>\n",
       "      <th>min</th>\n",
       "      <td>1.000000e+00</td>\n",
       "      <td>1.000000e+00</td>\n",
       "      <td>1.519000e+03</td>\n",
       "      <td>1.0</td>\n",
       "      <td>1.000000e+00</td>\n",
       "      <td>1.000000e+00</td>\n",
       "      <td>1.960000e+03</td>\n",
       "      <td>NaN</td>\n",
       "      <td>2015.000000</td>\n",
       "      <td>NaN</td>\n",
       "      <td>6.029415e+06</td>\n",
       "      <td>NaN</td>\n",
       "      <td>NaN</td>\n",
       "      <td>NaN</td>\n",
       "      <td>NaN</td>\n",
       "      <td>NaN</td>\n",
       "      <td>NaN</td>\n",
       "      <td>NaN</td>\n",
       "      <td>NaN</td>\n",
       "      <td>NaN</td>\n",
       "    </tr>\n",
       "    <tr>\n",
       "      <th>25%</th>\n",
       "      <td>6.670555e+05</td>\n",
       "      <td>4.000000e+00</td>\n",
       "      <td>1.762000e+03</td>\n",
       "      <td>1.0</td>\n",
       "      <td>4.725000e+03</td>\n",
       "      <td>1.560000e+02</td>\n",
       "      <td>2.006000e+03</td>\n",
       "      <td>NaN</td>\n",
       "      <td>2015.000000</td>\n",
       "      <td>NaN</td>\n",
       "      <td>1.390603e+07</td>\n",
       "      <td>NaN</td>\n",
       "      <td>NaN</td>\n",
       "      <td>NaN</td>\n",
       "      <td>NaN</td>\n",
       "      <td>NaN</td>\n",
       "      <td>NaN</td>\n",
       "      <td>NaN</td>\n",
       "      <td>NaN</td>\n",
       "      <td>NaN</td>\n",
       "    </tr>\n",
       "    <tr>\n",
       "      <th>50%</th>\n",
       "      <td>1.334110e+06</td>\n",
       "      <td>8.000000e+00</td>\n",
       "      <td>2.839000e+03</td>\n",
       "      <td>1.0</td>\n",
       "      <td>1.320000e+04</td>\n",
       "      <td>4.000000e+02</td>\n",
       "      <td>2.012000e+03</td>\n",
       "      <td>NaN</td>\n",
       "      <td>2015.000000</td>\n",
       "      <td>NaN</td>\n",
       "      <td>1.434755e+07</td>\n",
       "      <td>NaN</td>\n",
       "      <td>NaN</td>\n",
       "      <td>NaN</td>\n",
       "      <td>NaN</td>\n",
       "      <td>NaN</td>\n",
       "      <td>NaN</td>\n",
       "      <td>NaN</td>\n",
       "      <td>NaN</td>\n",
       "      <td>NaN</td>\n",
       "    </tr>\n",
       "    <tr>\n",
       "      <th>75%</th>\n",
       "      <td>2.001164e+06</td>\n",
       "      <td>1.200000e+01</td>\n",
       "      <td>3.202000e+03</td>\n",
       "      <td>1.0</td>\n",
       "      <td>4.306500e+04</td>\n",
       "      <td>6.240000e+02</td>\n",
       "      <td>2.017000e+03</td>\n",
       "      <td>NaN</td>\n",
       "      <td>2020.000000</td>\n",
       "      <td>NaN</td>\n",
       "      <td>1.567213e+07</td>\n",
       "      <td>NaN</td>\n",
       "      <td>NaN</td>\n",
       "      <td>NaN</td>\n",
       "      <td>NaN</td>\n",
       "      <td>NaN</td>\n",
       "      <td>NaN</td>\n",
       "      <td>NaN</td>\n",
       "      <td>NaN</td>\n",
       "      <td>NaN</td>\n",
       "    </tr>\n",
       "    <tr>\n",
       "      <th>max</th>\n",
       "      <td>2.668219e+06</td>\n",
       "      <td>1.700000e+01</td>\n",
       "      <td>4.468000e+03</td>\n",
       "      <td>1.0</td>\n",
       "      <td>1.365270e+05</td>\n",
       "      <td>9.911600e+04</td>\n",
       "      <td>2.023000e+03</td>\n",
       "      <td>NaN</td>\n",
       "      <td>2021.000000</td>\n",
       "      <td>NaN</td>\n",
       "      <td>1.713801e+07</td>\n",
       "      <td>NaN</td>\n",
       "      <td>NaN</td>\n",
       "      <td>NaN</td>\n",
       "      <td>NaN</td>\n",
       "      <td>NaN</td>\n",
       "      <td>NaN</td>\n",
       "      <td>NaN</td>\n",
       "      <td>NaN</td>\n",
       "      <td>NaN</td>\n",
       "    </tr>\n",
       "  </tbody>\n",
       "</table>\n",
       "</div>"
      ],
      "text/plain": [
       "                 ID          Goal      SeriesID  isDSDSeries  \\\n",
       "count  2.668219e+06  2.668219e+06  2.668219e+06    2668219.0   \n",
       "mean   1.334110e+06  8.906242e+00  2.492912e+03          1.0   \n",
       "std    7.702486e+05  5.115546e+00  7.755669e+02          0.0   \n",
       "min    1.000000e+00  1.000000e+00  1.519000e+03          1.0   \n",
       "25%    6.670555e+05  4.000000e+00  1.762000e+03          1.0   \n",
       "50%    1.334110e+06  8.000000e+00  2.839000e+03          1.0   \n",
       "75%    2.001164e+06  1.200000e+01  3.202000e+03          1.0   \n",
       "max    2.668219e+06  1.700000e+01  4.468000e+03          1.0   \n",
       "\n",
       "       SeriesObservationCount   GeoAreaCode    TimePeriod  TimeCoverage  \\\n",
       "count            2.668219e+06  2.668219e+06  2.668219e+06           0.0   \n",
       "mean             3.197705e+04  6.137184e+02  2.010984e+03           NaN   \n",
       "std              3.842497e+04  4.606459e+03  8.089045e+00           NaN   \n",
       "min              1.000000e+00  1.000000e+00  1.960000e+03           NaN   \n",
       "25%              4.725000e+03  1.560000e+02  2.006000e+03           NaN   \n",
       "50%              1.320000e+04  4.000000e+02  2.012000e+03           NaN   \n",
       "75%              4.306500e+04  6.240000e+02  2.017000e+03           NaN   \n",
       "max              1.365270e+05  9.911600e+04  2.023000e+03           NaN   \n",
       "\n",
       "          BasePeriod  GeoInfoUrl  ObservationID  Freq  UnitMultiplier  \\\n",
       "count  294547.000000         0.0   2.668219e+06   0.0             0.0   \n",
       "mean     2016.639389         NaN   1.462566e+07   NaN             NaN   \n",
       "std         2.400968         NaN   1.517945e+06   NaN             NaN   \n",
       "min      2015.000000         NaN   6.029415e+06   NaN             NaN   \n",
       "25%      2015.000000         NaN   1.390603e+07   NaN             NaN   \n",
       "50%      2015.000000         NaN   1.434755e+07   NaN             NaN   \n",
       "75%      2020.000000         NaN   1.567213e+07   NaN             NaN   \n",
       "max      2021.000000         NaN   1.713801e+07   NaN             NaN   \n",
       "\n",
       "       Name of international agreement  Type of facilities  \\\n",
       "count                              0.0                 0.0   \n",
       "mean                               NaN                 NaN   \n",
       "std                                NaN                 NaN   \n",
       "min                                NaN                 NaN   \n",
       "25%                                NaN                 NaN   \n",
       "50%                                NaN                 NaN   \n",
       "75%                                NaN                 NaN   \n",
       "max                                NaN                 NaN   \n",
       "\n",
       "       Tariff regime (status)  Type of mobile technology  Hazard type  \\\n",
       "count                     0.0                        0.0          0.0   \n",
       "mean                      NaN                        NaN          NaN   \n",
       "std                       NaN                        NaN          NaN   \n",
       "min                       NaN                        NaN          NaN   \n",
       "25%                       NaN                        NaN          NaN   \n",
       "50%                       NaN                        NaN          NaN   \n",
       "75%                       NaN                        NaN          NaN   \n",
       "max                       NaN                        NaN          NaN   \n",
       "\n",
       "       Mountain Elevation  Custom Breakdown  \n",
       "count                 0.0               0.0  \n",
       "mean                  NaN               NaN  \n",
       "std                   NaN               NaN  \n",
       "min                   NaN               NaN  \n",
       "25%                   NaN               NaN  \n",
       "50%                   NaN               NaN  \n",
       "75%                   NaN               NaN  \n",
       "max                   NaN               NaN  "
      ]
     },
     "execution_count": 4,
     "metadata": {},
     "output_type": "execute_result"
    }
   ],
   "source": [
    "data.describe()"
   ]
  },
  {
   "cell_type": "code",
   "execution_count": 10,
   "id": "3cc59e34-9ca5-4a6d-baa3-fe5abbd53199",
   "metadata": {},
   "outputs": [
    {
     "data": {
      "text/plain": [
       "['ID',\n",
       " 'Goal',\n",
       " 'Target',\n",
       " 'Indicator',\n",
       " 'ReleaseStatus',\n",
       " 'ReleaseName',\n",
       " 'SeriesID',\n",
       " 'SeriesCode',\n",
       " 'isDSDSeries',\n",
       " 'SeriesDescription',\n",
       " 'SeriesObservationCount',\n",
       " 'GeoAreaCode',\n",
       " 'GeoAreaName',\n",
       " 'TimePeriod',\n",
       " 'Value',\n",
       " 'ValueType',\n",
       " 'Time_Detail',\n",
       " 'TimeCoverage',\n",
       " 'UpperBound',\n",
       " 'LowerBound',\n",
       " 'BasePeriod',\n",
       " 'Source',\n",
       " 'GeoInfoUrl',\n",
       " 'FootNote',\n",
       " 'ObservationID',\n",
       " 'Age',\n",
       " 'Freq',\n",
       " 'Location',\n",
       " 'Nature',\n",
       " 'Sex',\n",
       " 'UnitMultiplier',\n",
       " 'Units',\n",
       " 'Level/Status',\n",
       " 'Name of international agreement',\n",
       " 'Education level',\n",
       " 'Type of product',\n",
       " 'Type of facilities',\n",
       " 'Name of international institution',\n",
       " 'Type of occupation',\n",
       " 'Tariff regime (status)',\n",
       " 'Type of skill',\n",
       " 'Mode of transportation',\n",
       " 'Type of mobile technology',\n",
       " 'Name of non-communicable disease',\n",
       " 'Type of speed',\n",
       " 'Migratory status',\n",
       " 'Disability status',\n",
       " 'Hazard type',\n",
       " 'IHR Capacity',\n",
       " 'Cities',\n",
       " 'Reporting Type',\n",
       " 'Quantile',\n",
       " 'Activity',\n",
       " 'Observation Status',\n",
       " 'Policy Domains',\n",
       " 'Policy instruments',\n",
       " 'Sampling Stations',\n",
       " 'Type of waste treatment',\n",
       " 'Grounds of discrimination',\n",
       " 'Parliamentary committees',\n",
       " 'Cause of death',\n",
       " 'Substance use disorders',\n",
       " 'Mountain Elevation',\n",
       " 'Deviation Level',\n",
       " 'Frequency of Chlorophyll-a concentration',\n",
       " 'Food Waste Sector',\n",
       " 'Fiscal intervention stage',\n",
       " 'Level of requirement',\n",
       " 'Type of support',\n",
       " 'Report Ordinal',\n",
       " 'Counterpart',\n",
       " 'Government_Name',\n",
       " 'Severity of price levels',\n",
       " 'Level_of_government',\n",
       " 'Type of renewable technology',\n",
       " 'Population Group',\n",
       " 'Custom Breakdown',\n",
       " 'Service Attribute',\n",
       " 'Land cover',\n",
       " 'Bioclimatic belt',\n",
       " 'Illicit Financial Flows',\n",
       " 'Nutrient Loading',\n",
       " 'Type of OFDI scheme']"
      ]
     },
     "execution_count": 10,
     "metadata": {},
     "output_type": "execute_result"
    }
   ],
   "source": [
    "list(data.columns)"
   ]
  },
  {
   "cell_type": "code",
   "execution_count": 5,
   "id": "ce5e4cb6-9cdb-4e98-940b-c0cddf0fba09",
   "metadata": {},
   "outputs": [
    {
     "data": {
      "text/plain": [
       "<bound method Series.sort_values of Goal\n",
       "8     399193\n",
       "12    325706\n",
       "17    325585\n",
       "4     309154\n",
       "3     242846\n",
       "15    155151\n",
       "6     153676\n",
       "2     135472\n",
       "16    123550\n",
       "1     112678\n",
       "7      92940\n",
       "10     86975\n",
       "9      64334\n",
       "11     53141\n",
       "5      37806\n",
       "14     28874\n",
       "13     21138\n",
       "Name: count, dtype: int64>"
      ]
     },
     "execution_count": 5,
     "metadata": {},
     "output_type": "execute_result"
    }
   ],
   "source": [
    "data['Goal'].value_counts().sort_values"
   ]
  },
  {
   "cell_type": "code",
   "execution_count": null,
   "id": "aa6c73c2-61cb-4678-9bcc-ef440e6e0929",
   "metadata": {},
   "outputs": [],
   "source": []
  },
  {
   "cell_type": "code",
   "execution_count": 6,
   "id": "38d04160-6cf0-42ee-b84b-56d3e0c4b339",
   "metadata": {},
   "outputs": [
    {
     "data": {
      "text/plain": [
       "<bound method Series.sort_values of Target\n",
       "12.2     252073\n",
       "8.4      252073\n",
       "17.13    150388\n",
       "4.1      141445\n",
       "15.4      99226\n",
       "          ...  \n",
       "16.4         90\n",
       "17.14        49\n",
       "14.2         33\n",
       "13.b         24\n",
       "17.5         10\n",
       "Name: count, Length: 165, dtype: int64>"
      ]
     },
     "execution_count": 6,
     "metadata": {},
     "output_type": "execute_result"
    }
   ],
   "source": [
    "data['Target'].value_counts().sort_values"
   ]
  },
  {
   "cell_type": "code",
   "execution_count": 7,
   "id": "614b31fd-9095-4765-a264-aa1b32873254",
   "metadata": {},
   "outputs": [
    {
     "data": {
      "text/plain": [
       "<bound method Series.sort_values of Indicator\n",
       "12.2.2     252013\n",
       "8.4.2      252013\n",
       "17.13.1    150388\n",
       "4.1.2      136527\n",
       "15.4.2      93177\n",
       "            ...  \n",
       "13.b.1         24\n",
       "13.2.1         18\n",
       "16.3.3         15\n",
       "17.5.1         10\n",
       "10.7.1          6\n",
       "Name: count, Length: 242, dtype: int64>"
      ]
     },
     "execution_count": 7,
     "metadata": {},
     "output_type": "execute_result"
    }
   ],
   "source": [
    "data['Indicator'].value_counts().sort_values"
   ]
  },
  {
   "cell_type": "code",
   "execution_count": 8,
   "id": "63e81662-932a-4a38-a4ff-ef314bbffbdc",
   "metadata": {},
   "outputs": [
    {
     "data": {
      "text/plain": [
       "<bound method Series.sort_values of GeoAreaName\n",
       "Colombia                                         20189\n",
       "Mexico                                           19829\n",
       "Peru                                             18750\n",
       "Costa Rica                                       18181\n",
       "Brazil                                           17658\n",
       "                                                 ...  \n",
       "FAO Major Fishing Area: Indian Ocean, Eastern       11\n",
       "FAO Major Fishing Area: Atlantic, Northeast         11\n",
       "FAO Major Fishing Area: Atlantic, Northwest         11\n",
       "FAO Major Fishing Area: Pacific, Southeast          11\n",
       "Antarctica                                           9\n",
       "Name: count, Length: 415, dtype: int64>"
      ]
     },
     "execution_count": 8,
     "metadata": {},
     "output_type": "execute_result"
    }
   ],
   "source": [
    "data['GeoAreaName'].value_counts().sort_values"
   ]
  },
  {
   "cell_type": "code",
   "execution_count": 11,
   "id": "3b87ffad-ef5e-4d45-8f35-85ba76a0582d",
   "metadata": {},
   "outputs": [
    {
     "data": {
      "text/plain": [
       "<bound method Series.sort_values of SeriesCode\n",
       "EN_MAT_DOMCMPT    169174\n",
       "EN_MAT_DOMCMPC    167712\n",
       "EN_MAT_DOMCMPG    167140\n",
       "SE_TOT_CPLR       136527\n",
       "ER_MTN_GRNCOV      43065\n",
       "                   ...  \n",
       "EN_ADAP_COM_DV         2\n",
       "EN_NAD_CONTR           2\n",
       "EN_NACOM_AIP           1\n",
       "EN_BIUREP_AIP          1\n",
       "EN_NAA_PLAN            1\n",
       "Name: count, Length: 662, dtype: int64>"
      ]
     },
     "execution_count": 11,
     "metadata": {},
     "output_type": "execute_result"
    }
   ],
   "source": [
    "data['SeriesCode'].value_counts().sort_values"
   ]
  },
  {
   "cell_type": "code",
   "execution_count": 12,
   "id": "448f5280-91e1-4a1a-8a18-9c4560d55758",
   "metadata": {},
   "outputs": [
    {
     "data": {
      "text/plain": [
       "<bound method Series.sort_values of isDSDSeries\n",
       "1    2668219\n",
       "Name: count, dtype: int64>"
      ]
     },
     "execution_count": 12,
     "metadata": {},
     "output_type": "execute_result"
    }
   ],
   "source": [
    "data['isDSDSeries'].value_counts().sort_values"
   ]
  },
  {
   "cell_type": "code",
   "execution_count": 13,
   "id": "bdf71854-9e55-432b-92d4-dfb2c6838160",
   "metadata": {},
   "outputs": [
    {
     "data": {
      "text/plain": [
       "<bound method Series.sort_values of SeriesObservationCount\n",
       "84587     169174\n",
       "83856     167712\n",
       "83570     167140\n",
       "136527    136527\n",
       "43065      86130\n",
       "           ...  \n",
       "7              7\n",
       "5              5\n",
       "4              4\n",
       "1              3\n",
       "3              3\n",
       "Name: count, Length: 491, dtype: int64>"
      ]
     },
     "execution_count": 13,
     "metadata": {},
     "output_type": "execute_result"
    }
   ],
   "source": [
    "data['SeriesObservationCount'].value_counts().sort_values"
   ]
  },
  {
   "cell_type": "code",
   "execution_count": 14,
   "id": "2c665679-a188-457b-b147-f55401e08355",
   "metadata": {},
   "outputs": [
    {
     "data": {
      "text/plain": [
       "<bound method Series.sort_values of ReleaseName\n",
       "2023.Q3.G.02    2668219\n",
       "Name: count, dtype: int64>"
      ]
     },
     "execution_count": 14,
     "metadata": {},
     "output_type": "execute_result"
    }
   ],
   "source": [
    "data['ReleaseName'].value_counts().sort_values"
   ]
  },
  {
   "cell_type": "code",
   "execution_count": 15,
   "id": "94ae1c1e-99bb-4785-9e58-38c26dda5140",
   "metadata": {},
   "outputs": [
    {
     "data": {
      "text/plain": [
       "BasePeriod\n",
       "2015.0    188758\n",
       "2021.0     41832\n",
       "2020.0     34657\n",
       "2017.0     29300\n",
       "Name: count, dtype: int64"
      ]
     },
     "execution_count": 15,
     "metadata": {},
     "output_type": "execute_result"
    }
   ],
   "source": [
    "data['BasePeriod'].value_counts()"
   ]
  },
  {
   "cell_type": "code",
   "execution_count": 22,
   "id": "4b970b66-c90c-40b0-b861-6414dbd6178d",
   "metadata": {},
   "outputs": [
    {
     "data": {
      "text/plain": [
       "<bound method Series.sort_values of ValueType\n",
       "Float     2648570\n",
       "String      19649\n",
       "Name: count, dtype: int64>"
      ]
     },
     "execution_count": 22,
     "metadata": {},
     "output_type": "execute_result"
    }
   ],
   "source": [
    "data['ValueType'].value_counts().sort_values"
   ]
  },
  {
   "cell_type": "markdown",
   "id": "0aed96ec-d2f4-433a-ac34-77b56919d95f",
   "metadata": {},
   "source": [
    "<h3> Goals by Percentages in UN SDG Dataset​</h3>"
   ]
  },
  {
   "cell_type": "code",
   "execution_count": 17,
   "id": "0422b878-8093-4b7b-b5d7-2a28fd7b37dd",
   "metadata": {},
   "outputs": [
    {
     "data": {
      "text/plain": [
       "Text(0.5, 1.0, 'Goals by Percentages in UN SDG Dataset')"
      ]
     },
     "execution_count": 17,
     "metadata": {},
     "output_type": "execute_result"
    },
    {
     "data": {
      "image/png": "[encoded data removed]",
      "text/plain": [
       "<Figure size 640x480 with 1 Axes>"
      ]
     },
     "metadata": {},
     "output_type": "display_data"
    }
   ],
   "source": [
    "plt.pie(data['Goal'].value_counts(), labels = data['Goal'].value_counts().index, autopct = '%1.1f%%')\n",
    "plt.title(\"Goals by Percentages in UN SDG Dataset\")"
   ]
  },
  {
   "cell_type": "markdown",
   "id": "e43660d0-85d3-4ffc-a42f-c574c0020386",
   "metadata": {},
   "source": [
    "<h3> Count of Records for each TimePeriod in UN SDG Dataset </h3>"
   ]
  },
  {
   "cell_type": "code",
   "execution_count": 20,
   "id": "0cf65026-5003-4eff-9d12-9225dad1de1f",
   "metadata": {},
   "outputs": [
    {
     "data": {
      "text/plain": [
       "Text(0.5, 1.0, 'Count of Records for each TimePeriod in UN SDG Dataset')"
      ]
     },
     "execution_count": 20,
     "metadata": {},
     "output_type": "execute_result"
    },
    {
     "data": {
      "image/png": "[encoded data removed]",
      "text/plain": [
       "<Figure size 640x480 with 1 Axes>"
      ]
     },
     "metadata": {},
     "output_type": "display_data"
    }
   ],
   "source": [
    "plt.hist(data.TimePeriod, edgecolor='black', color='skyblue', bins = 20)\n",
    "plt.xlabel('TimePeriod')\n",
    "plt.ylabel('Count of Records')\n",
    "plt.title('Count of Records for each TimePeriod in UN SDG Dataset')"
   ]
  },
  {
   "cell_type": "code",
   "execution_count": null,
   "id": "ac616140-347d-4133-b3e8-bf0a952285aa",
   "metadata": {},
   "outputs": [],
   "source": []
  }
 ],
 "metadata": {
  "kernelspec": {
   "display_name": "Python 3 (ipykernel)",
   "language": "python",
   "name": "python3"
  },
  "language_info": {
   "codemirror_mode": {
    "name": "ipython",
    "version": 3
   },
   "file_extension": ".py",
   "mimetype": "text/x-python",
   "name": "python",
   "nbconvert_exporter": "python",
   "pygments_lexer": "ipython3",
   "version": "3.11.7"
  }
 },
 "nbformat": 4,
 "nbformat_minor": 5
}
