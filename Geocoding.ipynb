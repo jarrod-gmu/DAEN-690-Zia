{
 "cells": [
  {
   "cell_type": "code",
   "execution_count": 1,
   "id": "1957ffa9-ce14-426e-80ed-1328616ac32d",
   "metadata": {},
   "outputs": [],
   "source": [
    "import pandas as pd\n",
    "from geopy.geocoders import Nominatim\n",
    "from geopy.extra.rate_limiter import RateLimiter"
   ]
  },
  {
   "cell_type": "code",
   "execution_count": 2,
   "id": "24135a34-0a10-40e3-a573-8dd70d3d333c",
   "metadata": {},
   "outputs": [],
   "source": [
    "dataset = pd.read_csv('2d SDG Dataset.csv', header=0, low_memory=False).reset_index(drop=True)"
   ]
  },
  {
   "cell_type": "code",
   "execution_count": 7,
   "id": "375a2b22-7b88-45a5-9cc2-4f7e487c316b",
   "metadata": {},
   "outputs": [],
   "source": [
    "geonames = dataset[['GeoAreaCode', 'GeoAreaName']].drop_duplicates()"
   ]
  },
  {
   "cell_type": "code",
   "execution_count": 8,
   "id": "49c76698-0542-403c-a91b-98e86311de69",
   "metadata": {},
   "outputs": [],
   "source": [
    "geolocator = Nominatim(user_agent=\"DAEN-690-Capstone\")\n",
    "geocode = RateLimiter(geolocator.geocode, min_delay_seconds=1)\n",
    "geonames['Location'] =  geonames.GeoAreaName.apply(geocode)\n",
    "geonames['Point'] = geonames['Location'].apply(lambda loc: tuple(loc.point) if loc else None)"
   ]
  },
  {
   "cell_type": "code",
   "execution_count": 11,
   "id": "28f921d3-bda6-4537-9216-1a08973a284c",
   "metadata": {},
   "outputs": [],
   "source": [
    "def remove_third_element(point):\n",
    "    if isinstance(point, tuple):\n",
    "        return point[:2]\n",
    "    else:\n",
    "        return point\n",
    "\n",
    "pd.set_option('Display.max_rows', None)\n",
    "pd.set_option('Display.max_colwidth', None)\n",
    "geoinfo = geonames.drop('Location', axis=1)\n",
    "geoinfo = geoinfo.dropna(how='any')\n",
    "geoinfo.Point = geonames.Point.apply(remove_third_element)\n",
    "geoinfo.to_csv('GeoLocationInfo.csv', index=False)"
   ]
  },
  {
   "cell_type": "code",
   "execution_count": null,
   "id": "e4a52101-cde3-4fc2-a9ad-998f0af86c2e",
   "metadata": {},
   "outputs": [],
   "source": [
    "geoinfo.dtypes"
   ]
  }
 ],
 "metadata": {
  "kernelspec": {
   "display_name": "Python 3 (ipykernel)",
   "language": "python",
   "name": "python3"
  },
  "language_info": {
   "codemirror_mode": {
    "name": "ipython",
    "version": 3
   },
   "file_extension": ".py",
   "mimetype": "text/x-python",
   "name": "python",
   "nbconvert_exporter": "python",
   "pygments_lexer": "ipython3",
   "version": "3.8.17"
  }
 },
 "nbformat": 4,
 "nbformat_minor": 5
}
