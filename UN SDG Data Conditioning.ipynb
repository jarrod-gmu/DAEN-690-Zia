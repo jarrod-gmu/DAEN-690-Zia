{
 "cells": [
  {
   "cell_type": "code",
   "execution_count": 1,
   "id": "f2b16d35-0cbf-4acd-ac79-1fc619ae0fa1",
   "metadata": {
    "tags": []
   },
   "outputs": [],
   "source": [
    "import pandas as pd\n",
    "import re\n",
    "import json\n",
    "import seaborn as sns\n",
    "import matplotlib.pyplot as plt"
   ]
  },
  {
   "cell_type": "code",
   "execution_count": 2,
   "id": "08027f8b-2a10-4861-94c5-ecd03071e68a",
   "metadata": {
    "tags": []
   },
   "outputs": [
    {
     "name": "stdout",
     "output_type": "stream",
     "text": [
      "Original shape: \n",
      "(2668219, 83)\n",
      "New shape after dropna: \n",
      "(2578431, 72)\n"
     ]
    }
   ],
   "source": [
    "#Read in data and drop nas\n",
    "main_df = pd.read_csv('2023_Q3.2_AllData_Before_20231215.csv', header=0, index_col=0, low_memory=False).reset_index(drop=True)\n",
    "print(\"Original shape: \")\n",
    "print(main_df.shape)\n",
    "main_df = main_df.drop_duplicates()\n",
    "\n",
    "dropnas_df = main_df.dropna(axis=1, how=\"all\")\n",
    "dropnas_df = dropnas_df.dropna(subset=['Value'])\n",
    "\n",
    "print(\"New shape after dropna: \")\n",
    "print(dropnas_df.shape)\n",
    "#A continuation of the dropna function where NaN values are marked as 'N' instead of numpy NaNs. \n",
    "dropNs_df = dropnas_df[dropnas_df.Value != \"N\"]"
   ]
  },
  {
   "cell_type": "code",
   "execution_count": 3,
   "id": "99ca2ebf-9ecd-46da-8c50-33715120baee",
   "metadata": {
    "tags": []
   },
   "outputs": [
    {
     "name": "stderr",
     "output_type": "stream",
     "text": [
      "C:\\Users\\Jarrod\\AppData\\Local\\Temp\\ipykernel_9268\\4028364076.py:13: SettingWithCopyWarning: \n",
      "A value is trying to be set on a copy of a slice from a DataFrame.\n",
      "Try using .loc[row_indexer,col_indexer] = value instead\n",
      "\n",
      "See the caveats in the documentation: https://pandas.pydata.org/pandas-docs/stable/user_guide/indexing.html#returning-a-view-versus-a-copy\n",
      "  dropNs_df['Value'] = dropNs_df.Value.apply(try_float_conversion)\n"
     ]
    },
    {
     "name": "stdout",
     "output_type": "stream",
     "text": [
      "Value\n",
      "False    2569561\n",
      "Name: count, dtype: int64\n"
     ]
    }
   ],
   "source": [
    "#This function is used to make sure all Values are numerical. This is a requirement for the pivot operation.\n",
    "def try_float_conversion(value):\n",
    "    try:\n",
    "        return float(value)\n",
    "    except (ValueError, TypeError):\n",
    "        match = re.match(r'[<>]?\\s*(\\d+(\\.\\d+)?)', str(value))\n",
    "        if match:\n",
    "            number, _ = match.groups()\n",
    "            return float(number)\n",
    "        else:\n",
    "            return str(value)\n",
    "    \n",
    "dropNs_df['Value'] = dropNs_df.Value.apply(try_float_conversion)\n",
    "print(dropNs_df['Value'].apply(lambda x: isinstance(x, str)).value_counts())\n",
    "dropNs_df = dropNs_df[dropNs_df.TimePeriod >= 2000]"
   ]
  },
  {
   "cell_type": "code",
   "execution_count": 4,
   "id": "bfe3053c-155f-4629-a73f-824d85a9b2ba",
   "metadata": {
    "tags": []
   },
   "outputs": [],
   "source": [
    "potential_drop_cols = ['Nature', 'Units', 'Level/Status', 'Name of international institution', 'IHR Capacity', 'Reporting Type', 'Observation Status', 'Sampling Stations', 'Parliamentary committees',\n",
    "                 'Counterpart', 'Government_Name', 'Level_of_government', 'Population Group', 'Type of OFDI scheme']\n",
    "just_drop_cols = ['ID', 'Goal', 'Target', 'ReleaseStatus', 'ReleaseName', 'SeriesID', 'isDSDSeries','SeriesDescription', 'SeriesObservationCount', 'ValueType',\n",
    "                 'Time_Detail', 'UpperBound', 'LowerBound', 'BasePeriod', 'Source', 'FootNote', 'ObservationID', 'Nature', 'Units', 'Level/Status', 'Name of international institution', \n",
    "                  'IHR Capacity', 'Reporting Type', 'Observation Status', 'Sampling Stations', 'Parliamentary committees',\n",
    "                 'Counterpart', 'Government_Name', 'Level_of_government', 'Population Group', 'Type of OFDI scheme']\n",
    "drop_rows_and_cols = ['Cities']"
   ]
  },
  {
   "cell_type": "code",
   "execution_count": 5,
   "id": "cee5c00d-be95-46f6-b5e7-5650a5eebbe8",
   "metadata": {
    "tags": []
   },
   "outputs": [],
   "source": [
    "#These mappings are an attempt to reduce the dimensianality by using common groupings\n",
    "area_name_map = {'Netherlands (Kingdom of the)': 'The Netherlands', 'United Kingdom (England and Wales)': 'England', 'United Kingdom (Northern Ireland)': 'Northern Ireland',\n",
    "                'United Kingdom (Scotland)': 'Scotland', 'United States Virgin Islands': 'US Virgin Islands', 'Venezuela (Bolivarian Republic of)': 'Venezuela', 'Bolivia (Plurinational State of)': 'Bolivia', 'State of Palestine': 'The State of Palestine',\n",
    "                'Iran (Islamic Republic of)': 'Iran'}\n",
    "dropNs_df['GeoAreaName'] = dropNs_df['GeoAreaName'].replace(area_name_map)\n",
    "age_map = {'<15Y': 'Child','65+': 'Elderly','15-64': 'Adult','15+': 'Adult','15-24': 'Young Adult','25+': 'Adult','<18Y': 'Child','<16Y': 'Child','<10Y': 'Child','<6Y': 'Child','<5Y': 'Child',\n",
    "           '15-49': 'Adult','<1Y': 'Child','<1M': 'Child','50+': 'Adult','30-70': 'Adult','15-19': 'Young Adult','10-14': 'Child','M36T59': 'Adult','M24T59': 'Adult','M36T47': 'Adult','25-54': 'Adult',\n",
    "           '55-64': 'Adult','25-74': 'Adult','75+': 'Elderly','16-65': 'Adult', '20-24': 'Young Adult', '10+': 'Child', '12+': 'Child', '25-44': 'Adult', '45-54': 'Adult', '20-74': 'Adult', \n",
    "           '12-24': 'Young Adult', '85+': 'Elderly', '25-34': 'Adult', '35-44': 'Adult', '65-74': 'Elderly', '75-84': 'Elderly', '45-64': 'Adult', '3+': 'Child', '12-14': 'Child', '16+': 'Young Adult', \n",
    "           '20+': 'Young Adult', '20-64': 'Adult', '6+': 'Child', '5+': 'Child', '14+': 'Child', '18+': 'Young Adult', '6-65': 'ALLAGE', '5-17': 'Child', '5-14': 'Child', '6-17': 'Child', '10-17': 'Child', \n",
    "           '7-17': 'Child', '18-29': 'Young Adult', '18-74': 'Adult', '1-14': 'Child', '2-14': 'Child', '5-12': 'Child', '1-4': 'Child', '<25Y': 'Young Adult', '<=45Y' : 'Adult', '46+': 'Adult', \n",
    "           '<35Y': 'Adult', '<45Y': 'Adult', 'M24T35': 'Adult', 'M12T23': 'Child', 'M48T59': 'Adult', '<8Y': 'Child'}\n",
    "dropNs_df['Age'] = dropNs_df['Age'].map(age_map)\n",
    "\n",
    "mapping = {\n",
    "    'SEX': 'Demographic Characteristics','AGE': 'Demographic Characteristics','RACECOLR': 'Demographic Characteristics','ETH': 'Demographic Characteristics','ORIGIN': 'Demographic Characteristics',\n",
    "    'MARFAM': 'Demographic Characteristics','WEDLOCK': 'Demographic Characteristics','PREGY': 'Demographic Characteristics','SOCIOECON': 'Socioeconomic Status','MIG': 'Socioeconomic Status',\n",
    "    'LANDIA': 'Socioeconomic Status','NETW': 'Socioeconomic Status','WORK': 'Socioeconomic Status','EDU': 'Socioeconomic Status','RELIGION': 'Religious and Cultural Discrimination',\n",
    "    'ETHCUL': 'Religious and Cultural Discrimination','HEAILLINJ': 'Health and Physical Condition','PHYSCOND': 'Health and Physical Condition','HEALTH': 'Health and Physical Condition',\n",
    "    'OTHER': 'Other/unspecified','DIS': 'Other/unspecified','SEXO': 'Other/unspecified','DISHEA': 'Other/unspecified','POLVIEW': 'Other/unspecified','ETHIO': 'Other/unspecified',\n",
    "    'MAR': 'Other/unspecified','RES': 'Other/unspecified','ETHCOLLAN': 'Other/unspecified','ETHRACECOLLAN': 'Other/unspecified','GENID': 'Other/unspecified','SEXGENID': 'Other/unspecified',\n",
    "    'CLOTH': 'Other/unspecified','ETHCOLLANNAL': 'Other/unspecified','FAM': 'Other/unspecified','NATION': 'Other/unspecified',\n",
    "}\n",
    "\n",
    "dropNs_df['Grounds of discrimination'] = dropNs_df['Grounds of discrimination'].map(mapping)"
   ]
  },
  {
   "cell_type": "code",
   "execution_count": 6,
   "id": "19c80595-edd7-438e-96f1-1e87322260bf",
   "metadata": {
    "tags": []
   },
   "outputs": [],
   "source": [
    "#These Geo Areas are dropped because, right now, we are only interested in nation data. If we chose to do other visualizations this can be amended\n",
    "GeoAreasToDrop = ['Residual/unallocated ODA: Central Asia and Southern Asia', 'Residual/unallocated ODA: Eastern and South-eastern Asia', 'Residual/unallocated ODA: Latin America and the Caribbean'\n",
    "                 'Residual/unallocated ODA: Oceania excl. Aus. and N. Zealand', 'Residual/unallocated ODA: Sub-Saharan Africa', 'Residual/unallocated ODA: Western Asia and Northern Africa', \n",
    "                 'Residual/unallocated ODA: Unspecified, developing countries','Residual/unallocated ODA: Northern America and Europe', 'Large Marine Ecosystem: East Bering Sea', \n",
    "                 'Large Marine Ecosystem: Gulf of Alaska', 'Large Marine Ecosystem: California Current', 'Large Marine Ecosystem: Gulf of California', 'Large Marine Ecosystem: Gulf of Mexico', \n",
    "                 'Large Marine Ecosystem: Southeast U.S. Continental Shelf', 'Large Marine Ecosystem: Northeast U.S. Continental Shelf', 'Large Marine Ecosystem: Scotian Shelf', \n",
    "                 'Large Marine Ecosystem: Labrador - Newfoundland', 'Large Marine Ecosystem: Insular Pacific-Hawaiian', 'Large Marine Ecosystem: Pacific Central-American Coastal', \n",
    "                 'Large Marine Ecosystem: Caribbean Sea', 'Large Marine Ecosystem: Humboldt Current', 'Large Marine Ecosystem: Patagonian Shelf', 'Large Marine Ecosystem: South Brazil Shelf', \n",
    "                 'Large Marine Ecosystem: East Brazil Shelf', 'Large Marine Ecosystem: North Brazil Shelf', 'Large Marine Ecosystem: Canadian Eastern Arctic - West Greenland', 'Large Marine Ecosystem: Greenland Sea', \n",
    "                 'Large Marine Ecosystem: Barents Sea', 'Large Marine Ecosystem: Norwegian Sea', 'Large Marine Ecosystem: North Sea' 'Large Marine Ecosystem: Baltic Sea', 'Large Marine Ecosystem: Celtic-Biscay Shelf', \n",
    "                 'Large Marine Ecosystem: Iberian Coastal', 'Large Marine Ecosystem: Mediterranean Sea', 'Large Marine Ecosystem: Canary Current', 'Large Marine Ecosystem: Guinea Current', 'Large Marine Ecosystem: Benguela Current', \n",
    "                 'Large Marine Ecosystem: Agulhas Current', 'Large Marine Ecosystem: Somali Coastal Current', 'Large Marine Ecosystem: Arabian Sea' 'Large Marine Ecosystem: Red Sea', 'Large Marine Ecosystem: Bay of Bengal', \n",
    "                 'Large Marine Ecosystem: Gulf of Thailand', 'Large Marine Ecosystem: South China Sea', 'Large Marine Ecosystem: Sulu-Celebes Sea', 'Large Marine Ecosystem: Indonesian Sea', 'Large Marine Ecosystem: North Australian Shelf', \n",
    "                 'Large Marine Ecosystem: Northeast Australian Shelf', 'Large Marine Ecosystem: East Central Australian Shelf', 'Large Marine Ecosystem: Southeast Australian Shelf', 'Large Marine Ecosystem: South West Australian Shelf', \n",
    "                 'Large Marine Ecosystem: West Central Australian Shelf', 'Large Marine Ecosystem: Northwest Australian Shelf', 'Large Marine Ecosystem: New Zealand Shelf', 'Large Marine Ecosystem: East China Sea', \n",
    "                 'Large Marine Ecosystem: Yellow Sea', 'Large Marine Ecosystem: Kuroshio Current', 'Large Marine Ecosystem: Sea of Japan', 'Large Marine Ecosystem: Oyashio Current', 'Large Marine Ecosystem: Sea of Okhotsk', \n",
    "                 'Large Marine Ecosystem: West Bering Sea', 'Large Marine Ecosystem: Northern Bering - Chukchi Seas', 'Large Marine Ecosystem: Beaufort Sea', 'Large Marine Ecosystem: East Siberian Sea', \n",
    "                 'Large Marine Ecosystem: Laptev Sea' 'Large Marine Ecosystem: Kara Sea', 'Large Marine Ecosystem: Iceland Shelf and Sea', 'Large Marine Ecosystem: Faroe Plateau', 'Large Marine Ecosystem: Antarctica',\n",
    "                 'Large Marine Ecosystem: Black Sea', 'Large Marine Ecosystem: Hudson Bay Complex', 'Large Marine Ecosystem: Central Arctic', 'Large Marine Ecosystem: Aleutian Islands', 'Large Marine Ecosystem: Canadian High Arctic - North Greenland', \n",
    "                 'FAO Major Fishing Area: Pacific, Eastern Central', 'FAO Major Fishing Area: Pacific, Northeast', 'FAO Major Fishing Area: Pacific, Northwest', 'FAO Major Fishing Area: Pacific, Western Central', \n",
    "                 'FAO Major Fishing Area: Pacific, Southwest', 'FAO Major Fishing Area: Atlantic, Northwest', 'FAO Major Fishing Area: Atlantic, Northeast', 'FAO Major Fishing Area: Indian Ocean, Eastern', \n",
    "                 'FAO Major Fishing Area: Atlantic, Southeast', 'FAO Major Fishing Area: Indian Ocean, Western', 'FAO Major Fishing Area: Atlantic, Western Central', 'FAO Major Fishing Area: Atlantic, Eastern Central', \n",
    "                 'FAO Major Fishing Area: Atlantic, Southwest', 'FAO Major Fishing Area: Pacific, Southeast', 'FAO Major Fishing Area: Mediterranean and Black Sea', 'Developed regions (Europe, Cyprus, Israel, Northern America, Japan, Australia & New Zealand)',\n",
    "                 'Developing regions', 'Eastern Asia (excluding Japan)', 'Western Asia (exc. Armenia, Azerbaijan, Cyprus, Israel and Georgia)', 'Sub-Saharan Africa', 'Western Asia', 'Northern Europe', 'Western Europe',\n",
    "                 'Central Asia', 'Central and Southern Asia', 'South-Eastern Asia', 'Southern Europe', 'Middle Africa', 'Southern Africa', 'Americas', 'Northern America', 'Central America', 'Eastern Africa', 'Northern Africa',\n",
    "                 'World', 'Africa', 'South America', 'Oceania', 'Western Africa', 'Regional Centres (FAO)', 'International Centers (FAO)', 'Unallocated by country', 'Landlocked developing countries (LLDCs)', 'Least Developed Countries (LDCs)',\n",
    "                 'Oceania (exc. Australia and New Zealand)', 'Eastern Asia (excluding Japan and China)', 'Latin America and the Caribbean', 'Small island developing States (SIDS)', 'Northern Africa and Western Asia', 'Northern Africa and Western Asia',\n",
    "                 'Europe and Northern America', 'Latin America and the Caribbean', 'Other non-specified areas in Eastern Asia', 'Caucasus and Central Asia', 'Eastern and South-Eastern Asia', 'Sub-Saharan Africa (inc. Sudan)', 'Northern Africa (exc. Sudan)',\n",
    "                 'Large Marine Ecosystem: Arabian Sea', 'Large Marine Ecosystem: Kara Sea', 'Large Marine Ecosystem: Laptev Sea', 'Large Marine Ecosystem: Red Sea', 'Large Marine Ecosystem: North Sea', 'Large Marine Ecosystem: Baltic Sea', 'Latin America',\n",
    "                 'Development Assistance Committee members (DAC)', 'Other Africa (IEA)', 'Other non-OECD Americas', 'European Union (EU) Institutions', 'Sark', 'Other non-OECD Oceania', 'Other non-OECD Asia', 'Africa', 'British Indian Ocean Territory', \n",
    "                 'Asia', 'Eastern Asia', 'Eastern Europe', 'European Union', 'French Southern Territories', 'Iraq (Central Iraq)', 'Iraq (Kurdistan Region)', 'Middle East (ILO)', 'Middle East and North Africa (ILO)', 'North America (ILO)',\n",
    "                 'ODA residual', 'Residual/unallocated ODA: Latin America and the Caribbean', 'Residual/unallocated ODA: Oceania excl. Aus. and N. Zealand', 'Southern Asia (excluding India)', 'Africa (ILO)', 'Central and Eastern Europe (ILO)', \n",
    "                  'Southern Asia', 'Europe', 'Caribbean', 'Holy See', 'China, Hong Kong Special Administrative Region', 'China, Macao Special Administrative Region', 'Netherlands Antilles [former]', 'Sudan [former]', 'Yugoslavia [former]', \n",
    "                  'Serbia and Montenegro [former]', 'Belgium and Luxembourg', 'Australia and New Zealand']\n",
    "\n",
    "dropGeoAreasdf = dropNs_df[~dropNs_df['GeoAreaName'].isin(GeoAreasToDrop)]"
   ]
  },
  {
   "cell_type": "code",
   "execution_count": 7,
   "id": "f2319a84-b553-4f76-bbc1-2953190b2a13",
   "metadata": {
    "tags": []
   },
   "outputs": [],
   "source": [
    "dropcols_df = dropGeoAreasdf.drop(columns=just_drop_cols, axis=1)\n",
    "df = dropcols_df[dropcols_df.Cities.isna()]\n",
    "df = df.drop('Cities', axis=1)"
   ]
  },
  {
   "cell_type": "code",
   "execution_count": 8,
   "id": "a7b994ee-5269-4716-b54a-7fe77a38bab4",
   "metadata": {
    "tags": []
   },
   "outputs": [],
   "source": [
    "#These are indicators and Series that just don't contain much information, they have on the order of 10 values and serve only to increase the dimensionality\n",
    "indicators_droplist = ['4.2.1', '10.7.1', '13.2.1', '13.b.1', '14.2.1', '16.7.2']\n",
    "series_droplist = ['SG_DSR_SFDRR', 'SP_PSR_OSATIS_PRM', 'SP_PSR_SATIS_GOV', 'SP_PSR_SATIS_HLTH', 'SP_PSR_SATIS_PRM', 'SP_PSR_SATIS_SEC', ]\n",
    "\n",
    "df = df[~df.Indicator.isin(indicators_droplist)]\n",
    "df = df[~df.SeriesCode.isin(series_droplist)]"
   ]
  },
  {
   "cell_type": "code",
   "execution_count": 9,
   "id": "baffe52e-d4ab-4292-8ee2-d1a4a881dfc4",
   "metadata": {
    "tags": []
   },
   "outputs": [
    {
     "name": "stdout",
     "output_type": "stream",
     "text": [
      "Discriminator DF shape: \n",
      "(2146666, 37)\n",
      "Final shape before pivot: \n",
      "(2146666, 5)\n",
      "(6008, 2415)\n"
     ]
    }
   ],
   "source": [
    "discriminator_df = df.drop(['GeoAreaCode', 'GeoAreaName', 'TimePeriod', 'Value'], axis=1)\n",
    "# discriminator_df['discriminator_combo'] = discriminator_df.apply(lambda row: tuple(row.dropna()), axis=1)\n",
    "discriminator_df['discriminator_combo'] = discriminator_df.apply(lambda row: {col: val for col, val in row.dropna().items()}, axis=1)\n",
    "df['discriminator_combo'] = discriminator_df['discriminator_combo'].apply(json.dumps)\n",
    "print(\"Discriminator DF shape: \")\n",
    "print(discriminator_df.shape)\n",
    "unconditioned_df = df[['GeoAreaCode', 'GeoAreaName', 'TimePeriod', 'Value', 'discriminator_combo']]\n",
    "print(\"Final shape before pivot: \")\n",
    "print(unconditioned_df.shape)\n",
    "\n",
    "conditioned_df = unconditioned_df.pivot_table(index=['GeoAreaCode', 'GeoAreaName', 'TimePeriod'],\n",
    "                                             columns='discriminator_combo',\n",
    "                                             values='Value',\n",
    "                                             aggfunc='mean').reset_index()\n",
    "\n",
    "print(conditioned_df.shape)"
   ]
  },
  {
   "cell_type": "code",
   "execution_count": 10,
   "id": "7f51a046-d786-4ee4-a3ca-c42f2bcde898",
   "metadata": {
    "tags": []
   },
   "outputs": [],
   "source": [
    "# pd.set_option('Display.max_colwidth', None)\n",
    "# pd.DataFrame(conditioned_df.columns)"
   ]
  },
  {
   "cell_type": "code",
   "execution_count": 11,
   "id": "7a352ba4-8967-48bc-b3c0-52203bf19c04",
   "metadata": {
    "tags": []
   },
   "outputs": [
    {
     "name": "stdout",
     "output_type": "stream",
     "text": [
      "(6008, 2415)\n"
     ]
    }
   ],
   "source": [
    "conditioned_df.dropna(axis=1, how=\"all\")\n",
    "print(conditioned_df.shape)\n",
    "conditioned_df.to_csv(\"2d SDG Dataset.csv\", index=False)"
   ]
  }
 ],
 "metadata": {
  "kernelspec": {
   "display_name": "Python 3 (ipykernel)",
   "language": "python",
   "name": "python3"
  },
  "language_info": {
   "codemirror_mode": {
    "name": "ipython",
    "version": 3
   },
   "file_extension": ".py",
   "mimetype": "text/x-python",
   "name": "python",
   "nbconvert_exporter": "python",
   "pygments_lexer": "ipython3",
   "version": "3.8.17"
  }
 },
 "nbformat": 4,
 "nbformat_minor": 5
}
