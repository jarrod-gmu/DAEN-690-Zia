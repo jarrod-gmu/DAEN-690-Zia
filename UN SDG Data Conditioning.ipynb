{
 "cells": [
  {
   "cell_type": "code",
   "execution_count": 1,
   "id": "7a352ba4-8967-48bc-b3c0-52203bf19c04",
   "metadata": {},
   "outputs": [],
   "source": [
    "import pandas as pd\n",
    "\n",
    "main_df = pd.read_csv('2023_Q3.2_AllData_Before_20231215.csv', header=0, index_col=0, low_memory=False).reset_index(drop=True)\n",
    "dropnacols_df = main_df.dropna(axis=1, how=\"all\")\n",
    "\n",
    "droplist = ['SeriesID','ReleaseStatus', 'ReleaseName', 'isDSDSeries', 'Nature','Time_Detail', \n",
    "            'Source', 'SeriesObservationCount', 'UpperBound', 'SeriesDescription',\n",
    "            'LowerBound', 'ObservationID', 'FootNote', 'Reporting Type', 'Nature'\n",
    "           ]\n",
    "df = main_df.drop(droplist, axis=1)\n",
    "\n",
    "descriminator_df = df.drop(['ID', 'Goal', 'Target', 'Value', 'ValueType', 'TimePeriod', 'BasePeriod', 'GeoAreaCode', 'GeoAreaName', 'Units'], axis=1)\n",
    "descriminator_df['descriminator_combo'] = descriminator_df.apply(lambda row: tuple(row.dropna()), axis=1)\n",
    "df['descriminator_combo'] = descriminator_df['descriminator_combo']\n",
    "\n",
    "conditioning_droplist = ['ID', 'Goal', 'Target', 'Indicator', 'SeriesCode', 'ValueType', 'BasePeriod', 'Age', 'Location', 'Sex', 'Units', 'Level/Status', 'Education level', 'Type of product', 'Name of international institution',\n",
    "                        'Type of occupation', 'Type of skill', 'Mode of transportation', 'Name of non-communicable disease', 'Type of speed', 'Migratory status', 'Disability status', 'IHR Capacity', 'Cities', 'Quantile', 'Activity',\n",
    "                        'Observation Status', 'Policy Domains', 'Policy instruments', 'Sampling Stations', 'Type of waste treatment', 'Grounds of discrimination', 'Parliamentary committees', 'Cause of death', 'Substance use disorders',\n",
    "                        'Deviation Level', 'Frequency of Chlorophyll-a concentration', 'Food Waste Sector', 'Fiscal intervention stage', 'Level of requirement', 'Type of support', 'Report Ordinal', 'Counterpart', 'Government_Name', \n",
    "                        'Severity of price levels', 'Level_of_government', 'Type of renewable technology', 'Population Group', 'Service Attribute', 'Land cover', 'Bioclimatic belt', 'Illicit Financial Flows', 'Nutrient Loading',\n",
    "                        'Type of OFDI scheme']\n",
    "unconditioned_df = df.drop(conditioning_droplist, axis=1)\n",
    "\n",
    "conditioned_df = unconditioned_df.pivot_table(index=['GeoAreaCode', 'GeoAreaName', 'TimePeriod'],\n",
    "                                             columns='descriminator_combo',\n",
    "                                             values='Value',\n",
    "                                             aggfunc='sum').reset_index()\n",
    "\n",
    "conditioned_df.to_csv(\"2d SDG Dataset.csv\")"
   ]
  }
 ],
 "metadata": {
  "kernelspec": {
   "display_name": "Python 3 (ipykernel)",
   "language": "python",
   "name": "python3"
  },
  "language_info": {
   "codemirror_mode": {
    "name": "ipython",
    "version": 3
   },
   "file_extension": ".py",
   "mimetype": "text/x-python",
   "name": "python",
   "nbconvert_exporter": "python",
   "pygments_lexer": "ipython3",
   "version": "3.8.17"
  }
 },
 "nbformat": 4,
 "nbformat_minor": 5
}
