{
 "cells": [
  {
   "cell_type": "code",
   "execution_count": null,
   "id": "d884f436-5410-499a-9a20-f1ff2f6ed1c9",
   "metadata": {},
   "outputs": [],
   "source": [
    "import pandas as pd\n",
    "import pycountry   #pycountry provides the ISO databases for Countries\n",
    "\n",
    "# Load your data\n",
    "data = pd.read_csv('2023_Q3.2_AllData_Before_20231215.csv', header=0, index_col=0, low_memory=False).reset_index(drop=True)"
   ]
  },
  {
   "cell_type": "code",
   "execution_count": 17,
   "id": "935f7a79-6973-4c7f-a175-a5b5f8109204",
   "metadata": {},
   "outputs": [
    {
     "data": {
      "text/plain": [
       "(2668219, 84)"
      ]
     },
     "execution_count": 17,
     "metadata": {},
     "output_type": "execute_result"
    }
   ],
   "source": [
    "data.shape"
   ]
  },
  {
   "cell_type": "code",
   "execution_count": null,
   "id": "d7ce634b-7583-4ea4-9c6c-382dbb52e82c",
   "metadata": {},
   "outputs": [],
   "source": [
    "# Check if the GeoAreaCode for the record is in the list of country codes in pycountry\n",
    "def isCountry(code):\n",
    "    for co in list(pycountry.countries):\n",
    "        if str(co.numeric) in str(code):\n",
    "            return True\n",
    "    return False"
   ]
  },
  {
   "cell_type": "code",
   "execution_count": null,
   "id": "7406f3e7-03b5-428c-afdf-b9a85dfbc187",
   "metadata": {},
   "outputs": [],
   "source": [
    "# Check if the record is for a country or not\n",
    "def isCountryCode(row):\n",
    "    if isCountry(row['GeoAreaCode']):\n",
    "        val = \"isCountry\"\n",
    "    else:\n",
    "        val = \"isNotCountry\"\n",
    "    return val"
   ]
  },
  {
   "cell_type": "code",
   "execution_count": null,
   "id": "16521d61-da89-4ea1-9ca6-ecd98e92bd50",
   "metadata": {},
   "outputs": [],
   "source": [
    "# Make a copy of dataset and add a column stating if the record is a country or not\n",
    "dataNew = data\n",
    "\n",
    "dataNew['isValidCountry'] = dataNew.apply(isCountryCode, axis=1)"
   ]
  },
  {
   "cell_type": "code",
   "execution_count": 19,
   "id": "b2ef60b6-6fd5-4c98-9274-275a9efdee95",
   "metadata": {},
   "outputs": [
    {
     "data": {
      "text/plain": [
       "isValidCountry\n",
       "isCountry       2043860\n",
       "isNotCountry     624359\n",
       "Name: count, dtype: int64"
      ]
     },
     "execution_count": 19,
     "metadata": {},
     "output_type": "execute_result"
    }
   ],
   "source": [
    "dataNew['isValidCountry'].value_counts()"
   ]
  },
  {
   "cell_type": "code",
   "execution_count": 18,
   "id": "2f4b9199-0c93-4ee1-8b91-cd061c8286d7",
   "metadata": {},
   "outputs": [
    {
     "data": {
      "text/plain": [
       "(2668219, 84)"
      ]
     },
     "execution_count": 18,
     "metadata": {},
     "output_type": "execute_result"
    }
   ],
   "source": [
    "dataNew.shape"
   ]
  },
  {
   "cell_type": "code",
   "execution_count": 20,
   "id": "6746b839-e5b5-4595-91cb-e0517901a6b4",
   "metadata": {},
   "outputs": [],
   "source": [
    "# Drop rows which don't have valid countries. Also drop rows with invalid GeoAreaCode (greater than 900)\n",
    "data1 = data.query('isValidCountry == \"isCountry\" and GeoAreaCode < 900')"
   ]
  },
  {
   "cell_type": "code",
   "execution_count": 21,
   "id": "fb661c64-a78f-42c2-b3a7-42f9c8abfc5b",
   "metadata": {},
   "outputs": [
    {
     "data": {
      "text/plain": [
       "(2041997, 84)"
      ]
     },
     "execution_count": 21,
     "metadata": {},
     "output_type": "execute_result"
    }
   ],
   "source": [
    "data1.shape"
   ]
  },
  {
   "cell_type": "code",
   "execution_count": 22,
   "id": "6c851de1-bd82-46a1-a776-23713a98df36",
   "metadata": {},
   "outputs": [
    {
     "data": {
      "text/plain": [
       "array(['Bulgaria', 'Myanmar', 'Burundi', 'Belarus', 'Cameroon', 'Canada',\n",
       "       'Cabo Verde', 'Central African Republic', 'Sri Lanka', 'Chad',\n",
       "       'Chile', 'China', 'Colombia', 'Comoros', 'Congo',\n",
       "       'Democratic Republic of the Congo', 'Costa Rica', 'Croatia',\n",
       "       'Cyprus', 'Czechia', 'Benin', 'Denmark', 'Dominican Republic',\n",
       "       'Ecuador', 'El Salvador', 'Ethiopia', 'Estonia', 'Fiji', 'Finland',\n",
       "       'France', 'Djibouti', 'Gabon', 'Georgia', 'Gambia',\n",
       "       'State of Palestine', 'Germany', 'Ghana', 'Kiribati', 'Greece',\n",
       "       'Guatemala', 'Guinea', 'Guyana', 'Haiti', 'Honduras', 'Hungary',\n",
       "       'Iceland', 'India', 'Indonesia', 'Iran (Islamic Republic of)',\n",
       "       'Iraq', 'Ireland', 'Israel', 'Italy', \"Côte d'Ivoire\", 'Jamaica',\n",
       "       'Japan', 'Kazakhstan', 'Jordan', 'Kenya', 'Republic of Korea',\n",
       "       'Kyrgyzstan', \"Lao People's Democratic Republic\", 'Lebanon',\n",
       "       'Lesotho', 'Latvia', 'Liberia', 'Lithuania', 'Luxembourg',\n",
       "       'Madagascar', 'Malawi', 'Malaysia', 'Maldives', 'Mali', 'Malta',\n",
       "       'Mauritania', 'Mauritius', 'Mexico', 'Mongolia',\n",
       "       'Republic of Moldova', 'Montenegro', 'Morocco', 'Mozambique',\n",
       "       'Namibia', 'Nauru', 'Nepal', 'Netherlands (Kingdom of the)',\n",
       "       'Vanuatu', 'Nicaragua', 'Niger', 'Nigeria', 'Norway',\n",
       "       'Micronesia (Federated States of)', 'Marshall Islands', 'Pakistan',\n",
       "       'Panama', 'Papua New Guinea', 'Paraguay', 'Peru', 'Philippines',\n",
       "       'Poland', 'Portugal', 'Guinea-Bissau', 'Timor-Leste', 'Romania',\n",
       "       'Russian Federation', 'Rwanda', 'Saint Lucia',\n",
       "       'Sao Tome and Principe', 'Senegal', 'Serbia', 'Seychelles',\n",
       "       'Sierra Leone', 'Slovakia', 'Viet Nam', 'Slovenia', 'South Africa',\n",
       "       'Zimbabwe', 'Spain', 'South Sudan', 'Sudan', 'Suriname',\n",
       "       'Eswatini', 'Sweden', 'Switzerland', 'Syrian Arab Republic',\n",
       "       'Tajikistan', 'Thailand', 'Togo', 'Tonga', 'Trinidad and Tobago',\n",
       "       'United Arab Emirates', 'Tunisia', 'Türkiye', 'Turkmenistan',\n",
       "       'Tuvalu', 'Uganda', 'Ukraine', 'North Macedonia', 'Egypt',\n",
       "       'United Kingdom of Great Britain and Northern Ireland',\n",
       "       'United Republic of Tanzania', 'United States of America',\n",
       "       'Burkina Faso', 'Uruguay', 'Uzbekistan',\n",
       "       'Venezuela (Bolivarian Republic of)', 'Samoa', 'Yemen', 'Zambia',\n",
       "       'Cambodia', 'Somalia', 'Equatorial Guinea', 'Eritrea', 'Palau',\n",
       "       'Other non-specified areas in Eastern Asia', 'Cuba', 'Dominica',\n",
       "       'Grenada', 'Liechtenstein', 'Aruba', 'New Zealand',\n",
       "       'Saint Kitts and Nevis', 'Anguilla', 'Saint Pierre and Miquelon',\n",
       "       'Saint Vincent and the Grenadines', 'San Marino', 'Singapore',\n",
       "       'Turks and Caicos Islands', 'Cook Islands', 'French Guiana',\n",
       "       'Guadeloupe', 'Martinique', 'Puerto Rico',\n",
       "       'Saint Martin (French Part)', 'Saudi Arabia',\n",
       "       'United States Virgin Islands', 'Cayman Islands',\n",
       "       'China, Hong Kong Special Administrative Region', 'Kuwait',\n",
       "       'Libya', 'China, Macao Special Administrative Region', 'Curaçao',\n",
       "       'Sint Maarten (Dutch part)', 'New Caledonia', 'Qatar',\n",
       "       'Isle of Man', 'Oman', 'Mayotte', 'Faroe Islands',\n",
       "       'Falkland Islands (Malvinas)', 'French Polynesia', 'Gibraltar',\n",
       "       'Greenland', 'Guam', \"Democratic People's Republic of Korea\",\n",
       "       'Monaco', 'Montserrat', 'Bonaire, Sint Eustatius and Saba', 'Niue',\n",
       "       'Northern Mariana Islands', 'Réunion', 'Saint Barthélemy',\n",
       "       'Saint Helena', 'Tokelau', 'Wallis and Futuna Islands', 'Holy See',\n",
       "       'Åland Islands', 'Western Sahara', 'Guernsey', 'Jersey',\n",
       "       'Christmas Island', 'Cocos (Keeling) Islands',\n",
       "       'South Georgia and the South Sandwich Islands',\n",
       "       'French Southern Territories', 'Heard Island and McDonald Islands',\n",
       "       'Norfolk Island', 'United States Minor Outlying Islands',\n",
       "       'Pitcairn', 'Svalbard and Jan Mayen Islands'], dtype=object)"
      ]
     },
     "execution_count": 22,
     "metadata": {},
     "output_type": "execute_result"
    }
   ],
   "source": [
    "data1['GeoAreaName'].unique()"
   ]
  },
  {
   "cell_type": "code",
   "execution_count": 23,
   "id": "6b4f732c-7441-444e-8f7b-73217dce7a51",
   "metadata": {},
   "outputs": [
    {
     "data": {
      "text/plain": [
       "array([100, 104, 108, 112, 120, 124, 132, 140, 144, 148, 152, 156, 170,\n",
       "       174, 178, 180, 188, 191, 196, 203, 204, 208, 214, 218, 222, 231,\n",
       "       233, 242, 246, 250, 262, 266, 268, 270, 275, 276, 288, 296, 300,\n",
       "       320, 324, 328, 332, 340, 348, 352, 356, 360, 364, 368, 372, 376,\n",
       "       380, 384, 388, 392, 398, 400, 404, 410, 417, 418, 422, 426, 428,\n",
       "       430, 440, 442, 450, 454, 458, 462, 466, 470, 478, 480, 484, 496,\n",
       "       498, 499, 504, 508, 516, 520, 524, 528, 548, 558, 562, 566, 578,\n",
       "       583, 584, 586, 591, 598, 600, 604, 608, 616, 620, 624, 626, 642,\n",
       "       643, 646, 662, 678, 686, 688, 690, 694, 703, 704, 705, 710, 716,\n",
       "       724, 728, 729, 740, 748, 752, 756, 760, 762, 764, 768, 776, 780,\n",
       "       784, 788, 792, 795, 798, 800, 804, 807, 818, 826, 834, 840, 854,\n",
       "       858, 860, 862, 882, 887, 894, 116, 706, 226, 232, 585, 158, 192,\n",
       "       212, 308, 438, 533, 554, 659, 660, 666, 670, 674, 702, 796, 184,\n",
       "       254, 312, 474, 630, 663, 682, 850, 136, 344, 414, 434, 446, 531,\n",
       "       534, 540, 634, 833, 512, 175, 234, 238, 258, 292, 304, 316, 408,\n",
       "       492, 500, 535, 570, 580, 638, 652, 654, 772, 876, 336, 248, 732,\n",
       "       831, 832, 162, 166, 239, 260, 334, 574, 581, 612, 744], dtype=int64)"
      ]
     },
     "execution_count": 23,
     "metadata": {},
     "output_type": "execute_result"
    }
   ],
   "source": [
    "data1['GeoAreaCode'].unique()"
   ]
  },
  {
   "cell_type": "code",
   "execution_count": null,
   "id": "29b1d1ab-d54f-4023-af6c-24cf031a618f",
   "metadata": {},
   "outputs": [],
   "source": []
  }
 ],
 "metadata": {
  "kernelspec": {
   "display_name": "Python 3 (ipykernel)",
   "language": "python",
   "name": "python3"
  },
  "language_info": {
   "codemirror_mode": {
    "name": "ipython",
    "version": 3
   },
   "file_extension": ".py",
   "mimetype": "text/x-python",
   "name": "python",
   "nbconvert_exporter": "python",
   "pygments_lexer": "ipython3",
   "version": "3.12.2"
  }
 },
 "nbformat": 4,
 "nbformat_minor": 5
}
